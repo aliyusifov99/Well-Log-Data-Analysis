{
 "cells": [
  {
   "cell_type": "code",
   "execution_count": 1,
   "metadata": {
    "collapsed": true
   },
   "outputs": [],
   "source": [
    "import pandas as pd\n",
    "import numpy as np\n",
    "import lasio"
   ]
  },
  {
   "cell_type": "code",
   "execution_count": 2,
   "outputs": [],
   "source": [
    "las = lasio.read(r'Well_1.las')"
   ],
   "metadata": {
    "collapsed": false,
    "pycharm": {
     "name": "#%%\n"
    }
   }
  },
  {
   "cell_type": "code",
   "execution_count": 3,
   "outputs": [
    {
     "data": {
      "text/plain": "[CurveItem(mnemonic=\"DEPT\", unit=\"M\", value=\"00 000 000 000\", descr=\"Depth\", original_mnemonic=\"DEPT\", data.shape=(19994,)),\n CurveItem(mnemonic=\"TENS\", unit=\"lbs\", value=\"00 000 000 000\", descr=\"Tension\", original_mnemonic=\"TENS\", data.shape=(19994,)),\n CurveItem(mnemonic=\"LSPD\", unit=\"mpm\", value=\"00 000 000 000\", descr=\"Line Speed\", original_mnemonic=\"LSPD\", data.shape=(19994,)),\n CurveItem(mnemonic=\"BS\", unit=\"mm\", value=\"00 000 000 000\", descr=\"Bit Size\", original_mnemonic=\"BS\", data.shape=(19994,)),\n CurveItem(mnemonic=\"ETIM\", unit=\"min\", value=\"00 000 000 000\", descr=\"Elapsed Time\", original_mnemonic=\"ETIM\", data.shape=(19994,)),\n CurveItem(mnemonic=\"DHTN\", unit=\"lbs\", value=\"00 000 000 000\", descr=\"CH Tension\", original_mnemonic=\"DHTN\", data.shape=(19994,)),\n CurveItem(mnemonic=\"BTMP\", unit=\"degC\", value=\"00 000 000 000\", descr=\"Borehole Temp\", original_mnemonic=\"BTMP\", data.shape=(19994,)),\n CurveItem(mnemonic=\"NPHI\", unit=\"decp\", value=\"00 000 000 000\", descr=\"Neutron Porosity\", original_mnemonic=\"NPHI\", data.shape=(19994,)),\n CurveItem(mnemonic=\"NCPS\", unit=\"cps\", value=\"00 000 000 000\", descr=\"DSN Near Counts\", original_mnemonic=\"NCPS\", data.shape=(19994,)),\n CurveItem(mnemonic=\"FCPS\", unit=\"cps\", value=\"00 000 000 000\", descr=\"DSN Far Counts\", original_mnemonic=\"FCPS\", data.shape=(19994,)),\n CurveItem(mnemonic=\"NRAT\", unit=\"NONE\", value=\"00 000 000 000\", descr=\"DSN Near to Far Ratio\", original_mnemonic=\"NRAT\", data.shape=(19994,)),\n CurveItem(mnemonic=\"NPHL\", unit=\"decp\", value=\"00 000 000 000\", descr=\"Neu Por Lime\", original_mnemonic=\"NPHL\", data.shape=(19994,)),\n CurveItem(mnemonic=\"NPHS\", unit=\"decp\", value=\"00 000 000 000\", descr=\"Neutron Porosity Sand\", original_mnemonic=\"NPHS\", data.shape=(19994,)),\n CurveItem(mnemonic=\"NPHD\", unit=\"decp\", value=\"00 000 000 000\", descr=\"Neutron Porosity Dolo\", original_mnemonic=\"NPHD\", data.shape=(19994,)),\n CurveItem(mnemonic=\"GR\", unit=\"api\", value=\"00 000 000 000\", descr=\"Gamma API\", original_mnemonic=\"GR\", data.shape=(19994,)),\n CurveItem(mnemonic=\"RHOB\", unit=\"kg/m3\", value=\"00 000 000 000\", descr=\"Density\", original_mnemonic=\"RHOB\", data.shape=(19994,)),\n CurveItem(mnemonic=\"CORP\", unit=\"kg/m3\", value=\"00 000 000 000\", descr=\"DensityCorrPos\", original_mnemonic=\"CORP\", data.shape=(19994,)),\n CurveItem(mnemonic=\"CORM\", unit=\"kg/m3\", value=\"00 000 000 000\", descr=\"DensityCorrNeg\", original_mnemonic=\"CORM\", data.shape=(19994,)),\n CurveItem(mnemonic=\"DRHO\", unit=\"kg/m3\", value=\"00 000 000 000\", descr=\"DensityCorr\", original_mnemonic=\"DRHO\", data.shape=(19994,)),\n CurveItem(mnemonic=\"PE\", unit=\"b/e\", value=\"00 000 000 000\", descr=\"Pe\", original_mnemonic=\"PE\", data.shape=(19994,)),\n CurveItem(mnemonic=\"DPE\", unit=\"NONE\", value=\"00 000 000 000\", descr=\"PeCorr\", original_mnemonic=\"DPE\", data.shape=(19994,)),\n CurveItem(mnemonic=\"QN\", unit=\"NONE\", value=\"00 000 000 000\", descr=\"NearQuality\", original_mnemonic=\"QN\", data.shape=(19994,)),\n CurveItem(mnemonic=\"QF\", unit=\"NONE\", value=\"00 000 000 000\", descr=\"FarQuality\", original_mnemonic=\"QF\", data.shape=(19994,)),\n CurveItem(mnemonic=\"DPHI\", unit=\"decp\", value=\"00 000 000 000\", descr=\"DensityPorosity\", original_mnemonic=\"DPHI\", data.shape=(19994,)),\n CurveItem(mnemonic=\"DLIM\", unit=\"decp\", value=\"00 000 000 000\", descr=\"DenPhiLime\", original_mnemonic=\"DLIM\", data.shape=(19994,)),\n CurveItem(mnemonic=\"DPHD\", unit=\"decp\", value=\"00 000 000 000\", descr=\"DenPhiDolo\", original_mnemonic=\"DPHD\", data.shape=(19994,)),\n CurveItem(mnemonic=\"DPHS\", unit=\"decp\", value=\"00 000 000 000\", descr=\"DenPhiSand\", original_mnemonic=\"DPHS\", data.shape=(19994,)),\n CurveItem(mnemonic=\"CALI\", unit=\"mm\", value=\"00 000 000 000\", descr=\"Caliper\", original_mnemonic=\"CALI\", data.shape=(19994,)),\n CurveItem(mnemonic=\"BHVT\", unit=\"m3\", value=\"00 000 000 000\", descr=\"Borehole Volume\", original_mnemonic=\"BHVT\", data.shape=(19994,)),\n CurveItem(mnemonic=\"AHVT\", unit=\"m3\", value=\"00 000 000 000\", descr=\"Annular Volume\", original_mnemonic=\"AHVT\", data.shape=(19994,)),\n CurveItem(mnemonic=\"DT\", unit=\"us/m\", value=\"00 000 000 000\", descr=\"Delta-T\", original_mnemonic=\"DT\", data.shape=(19994,)),\n CurveItem(mnemonic=\"ITTT\", unit=\"us\", value=\"00 000 000 000\", descr=\"ITTTotal\", original_mnemonic=\"ITTT\", data.shape=(19994,)),\n CurveItem(mnemonic=\"ITTI\", unit=\"us\", value=\"00 000 000 000\", descr=\"ITTInc\", original_mnemonic=\"ITTI\", data.shape=(19994,)),\n CurveItem(mnemonic=\"SPHI\", unit=\"decp\", value=\"00 000 000 000\", descr=\"Acou Porosity\", original_mnemonic=\"SPHI\", data.shape=(19994,)),\n CurveItem(mnemonic=\"LLS\", unit=\"ohmm\", value=\"00 000 000 000\", descr=\"LLS\", original_mnemonic=\"LLS\", data.shape=(19994,)),\n CurveItem(mnemonic=\"LLD\", unit=\"ohmm\", value=\"00 000 000 000\", descr=\"LLD\", original_mnemonic=\"LLD\", data.shape=(19994,)),\n CurveItem(mnemonic=\"CLLD\", unit=\"mmo/m\", value=\"00 000 000 000\", descr=\"CLLD\", original_mnemonic=\"CLLD\", data.shape=(19994,)),\n CurveItem(mnemonic=\"SP\", unit=\"mV\", value=\"00 000 000 000\", descr=\"SP\", original_mnemonic=\"SP\", data.shape=(19994,)),\n CurveItem(mnemonic=\"MSFL\", unit=\"ohmm\", value=\"00 000 000 000\", descr=\"MSFL\", original_mnemonic=\"MSFL\", data.shape=(19994,)),\n CurveItem(mnemonic=\"MSFU\", unit=\"ohmm\", value=\"00 000 000 000\", descr=\"MSFL Unfiltered\", original_mnemonic=\"MSFU\", data.shape=(19994,)),\n CurveItem(mnemonic=\"CAL1\", unit=\"mm\", value=\"00 000 000 000\", descr=\"Caliper\", original_mnemonic=\"CAL1\", data.shape=(19994,))]"
     },
     "execution_count": 3,
     "metadata": {},
     "output_type": "execute_result"
    }
   ],
   "source": [
    "las.curves"
   ],
   "metadata": {
    "collapsed": false,
    "pycharm": {
     "name": "#%%\n"
    }
   }
  },
  {
   "cell_type": "code",
   "execution_count": 4,
   "outputs": [],
   "source": [
    "df_well=las.df()"
   ],
   "metadata": {
    "collapsed": false,
    "pycharm": {
     "name": "#%%\n"
    }
   }
  },
  {
   "cell_type": "code",
   "execution_count": 6,
   "outputs": [
    {
     "data": {
      "text/plain": "             TENS  LSPD      BS    ETIM     DHTN     BTMP  NPHI  NCPS  FCPS  \\\nDEPT                                                                          \n1.5           NaN   NaN     NaN     NaN      NaN      NaN   NaN   NaN   NaN   \n1.6           NaN   NaN     NaN     NaN      NaN      NaN   NaN   NaN   NaN   \n1.7           NaN   NaN     NaN     NaN      NaN      NaN   NaN   NaN   NaN   \n1.8           NaN   NaN     NaN     NaN      NaN      NaN   NaN   NaN   NaN   \n1.9           NaN   NaN     NaN     NaN      NaN      NaN   NaN   NaN   NaN   \n...           ...   ...     ...     ...      ...      ...   ...   ...   ...   \n2000.4  2308.5520   7.0  311.15  0.1912 -87.3785  82.5890   NaN   NaN   NaN   \n2000.5  2332.2097   6.8  311.15  0.1771 -87.6423  82.5375   NaN   NaN   NaN   \n2000.6  2289.8608   4.5  311.15  0.1604 -87.6997  82.3109   NaN   NaN   NaN   \n2000.7  2111.3706   4.4  311.15  0.1379 -87.4817  82.3006   NaN   NaN   NaN   \n2000.8        NaN   NaN     NaN     NaN -86.6099  82.2234   NaN   NaN   NaN   \n\n        NRAT  ...  ITTT  ITTI  SPHI  LLS  LLD  CLLD  SP  MSFL  MSFU  CAL1  \nDEPT          ...                                                          \n1.5      NaN  ...   NaN   NaN   NaN  NaN  NaN   NaN NaN   NaN   NaN   NaN  \n1.6      NaN  ...   NaN   NaN   NaN  NaN  NaN   NaN NaN   NaN   NaN   NaN  \n1.7      NaN  ...   NaN   NaN   NaN  NaN  NaN   NaN NaN   NaN   NaN   NaN  \n1.8      NaN  ...   NaN   NaN   NaN  NaN  NaN   NaN NaN   NaN   NaN   NaN  \n1.9      NaN  ...   NaN   NaN   NaN  NaN  NaN   NaN NaN   NaN   NaN   NaN  \n...      ...  ...   ...   ...   ...  ...  ...   ...  ..   ...   ...   ...  \n2000.4   NaN  ...   NaN   NaN   NaN  NaN  NaN   NaN NaN   NaN   NaN   NaN  \n2000.5   NaN  ...   NaN   NaN   NaN  NaN  NaN   NaN NaN   NaN   NaN   NaN  \n2000.6   NaN  ...   NaN   NaN   NaN  NaN  NaN   NaN NaN   NaN   NaN   NaN  \n2000.7   NaN  ...   NaN   NaN   NaN  NaN  NaN   NaN NaN   NaN   NaN   NaN  \n2000.8   NaN  ...   NaN   NaN   NaN  NaN  NaN   NaN NaN   NaN   NaN   NaN  \n\n[19994 rows x 40 columns]",
      "text/html": "<div>\n<style scoped>\n    .dataframe tbody tr th:only-of-type {\n        vertical-align: middle;\n    }\n\n    .dataframe tbody tr th {\n        vertical-align: top;\n    }\n\n    .dataframe thead th {\n        text-align: right;\n    }\n</style>\n<table border=\"1\" class=\"dataframe\">\n  <thead>\n    <tr style=\"text-align: right;\">\n      <th></th>\n      <th>TENS</th>\n      <th>LSPD</th>\n      <th>BS</th>\n      <th>ETIM</th>\n      <th>DHTN</th>\n      <th>BTMP</th>\n      <th>NPHI</th>\n      <th>NCPS</th>\n      <th>FCPS</th>\n      <th>NRAT</th>\n      <th>...</th>\n      <th>ITTT</th>\n      <th>ITTI</th>\n      <th>SPHI</th>\n      <th>LLS</th>\n      <th>LLD</th>\n      <th>CLLD</th>\n      <th>SP</th>\n      <th>MSFL</th>\n      <th>MSFU</th>\n      <th>CAL1</th>\n    </tr>\n    <tr>\n      <th>DEPT</th>\n      <th></th>\n      <th></th>\n      <th></th>\n      <th></th>\n      <th></th>\n      <th></th>\n      <th></th>\n      <th></th>\n      <th></th>\n      <th></th>\n      <th></th>\n      <th></th>\n      <th></th>\n      <th></th>\n      <th></th>\n      <th></th>\n      <th></th>\n      <th></th>\n      <th></th>\n      <th></th>\n      <th></th>\n    </tr>\n  </thead>\n  <tbody>\n    <tr>\n      <th>1.5</th>\n      <td>NaN</td>\n      <td>NaN</td>\n      <td>NaN</td>\n      <td>NaN</td>\n      <td>NaN</td>\n      <td>NaN</td>\n      <td>NaN</td>\n      <td>NaN</td>\n      <td>NaN</td>\n      <td>NaN</td>\n      <td>...</td>\n      <td>NaN</td>\n      <td>NaN</td>\n      <td>NaN</td>\n      <td>NaN</td>\n      <td>NaN</td>\n      <td>NaN</td>\n      <td>NaN</td>\n      <td>NaN</td>\n      <td>NaN</td>\n      <td>NaN</td>\n    </tr>\n    <tr>\n      <th>1.6</th>\n      <td>NaN</td>\n      <td>NaN</td>\n      <td>NaN</td>\n      <td>NaN</td>\n      <td>NaN</td>\n      <td>NaN</td>\n      <td>NaN</td>\n      <td>NaN</td>\n      <td>NaN</td>\n      <td>NaN</td>\n      <td>...</td>\n      <td>NaN</td>\n      <td>NaN</td>\n      <td>NaN</td>\n      <td>NaN</td>\n      <td>NaN</td>\n      <td>NaN</td>\n      <td>NaN</td>\n      <td>NaN</td>\n      <td>NaN</td>\n      <td>NaN</td>\n    </tr>\n    <tr>\n      <th>1.7</th>\n      <td>NaN</td>\n      <td>NaN</td>\n      <td>NaN</td>\n      <td>NaN</td>\n      <td>NaN</td>\n      <td>NaN</td>\n      <td>NaN</td>\n      <td>NaN</td>\n      <td>NaN</td>\n      <td>NaN</td>\n      <td>...</td>\n      <td>NaN</td>\n      <td>NaN</td>\n      <td>NaN</td>\n      <td>NaN</td>\n      <td>NaN</td>\n      <td>NaN</td>\n      <td>NaN</td>\n      <td>NaN</td>\n      <td>NaN</td>\n      <td>NaN</td>\n    </tr>\n    <tr>\n      <th>1.8</th>\n      <td>NaN</td>\n      <td>NaN</td>\n      <td>NaN</td>\n      <td>NaN</td>\n      <td>NaN</td>\n      <td>NaN</td>\n      <td>NaN</td>\n      <td>NaN</td>\n      <td>NaN</td>\n      <td>NaN</td>\n      <td>...</td>\n      <td>NaN</td>\n      <td>NaN</td>\n      <td>NaN</td>\n      <td>NaN</td>\n      <td>NaN</td>\n      <td>NaN</td>\n      <td>NaN</td>\n      <td>NaN</td>\n      <td>NaN</td>\n      <td>NaN</td>\n    </tr>\n    <tr>\n      <th>1.9</th>\n      <td>NaN</td>\n      <td>NaN</td>\n      <td>NaN</td>\n      <td>NaN</td>\n      <td>NaN</td>\n      <td>NaN</td>\n      <td>NaN</td>\n      <td>NaN</td>\n      <td>NaN</td>\n      <td>NaN</td>\n      <td>...</td>\n      <td>NaN</td>\n      <td>NaN</td>\n      <td>NaN</td>\n      <td>NaN</td>\n      <td>NaN</td>\n      <td>NaN</td>\n      <td>NaN</td>\n      <td>NaN</td>\n      <td>NaN</td>\n      <td>NaN</td>\n    </tr>\n    <tr>\n      <th>...</th>\n      <td>...</td>\n      <td>...</td>\n      <td>...</td>\n      <td>...</td>\n      <td>...</td>\n      <td>...</td>\n      <td>...</td>\n      <td>...</td>\n      <td>...</td>\n      <td>...</td>\n      <td>...</td>\n      <td>...</td>\n      <td>...</td>\n      <td>...</td>\n      <td>...</td>\n      <td>...</td>\n      <td>...</td>\n      <td>...</td>\n      <td>...</td>\n      <td>...</td>\n      <td>...</td>\n    </tr>\n    <tr>\n      <th>2000.4</th>\n      <td>2308.5520</td>\n      <td>7.0</td>\n      <td>311.15</td>\n      <td>0.1912</td>\n      <td>-87.3785</td>\n      <td>82.5890</td>\n      <td>NaN</td>\n      <td>NaN</td>\n      <td>NaN</td>\n      <td>NaN</td>\n      <td>...</td>\n      <td>NaN</td>\n      <td>NaN</td>\n      <td>NaN</td>\n      <td>NaN</td>\n      <td>NaN</td>\n      <td>NaN</td>\n      <td>NaN</td>\n      <td>NaN</td>\n      <td>NaN</td>\n      <td>NaN</td>\n    </tr>\n    <tr>\n      <th>2000.5</th>\n      <td>2332.2097</td>\n      <td>6.8</td>\n      <td>311.15</td>\n      <td>0.1771</td>\n      <td>-87.6423</td>\n      <td>82.5375</td>\n      <td>NaN</td>\n      <td>NaN</td>\n      <td>NaN</td>\n      <td>NaN</td>\n      <td>...</td>\n      <td>NaN</td>\n      <td>NaN</td>\n      <td>NaN</td>\n      <td>NaN</td>\n      <td>NaN</td>\n      <td>NaN</td>\n      <td>NaN</td>\n      <td>NaN</td>\n      <td>NaN</td>\n      <td>NaN</td>\n    </tr>\n    <tr>\n      <th>2000.6</th>\n      <td>2289.8608</td>\n      <td>4.5</td>\n      <td>311.15</td>\n      <td>0.1604</td>\n      <td>-87.6997</td>\n      <td>82.3109</td>\n      <td>NaN</td>\n      <td>NaN</td>\n      <td>NaN</td>\n      <td>NaN</td>\n      <td>...</td>\n      <td>NaN</td>\n      <td>NaN</td>\n      <td>NaN</td>\n      <td>NaN</td>\n      <td>NaN</td>\n      <td>NaN</td>\n      <td>NaN</td>\n      <td>NaN</td>\n      <td>NaN</td>\n      <td>NaN</td>\n    </tr>\n    <tr>\n      <th>2000.7</th>\n      <td>2111.3706</td>\n      <td>4.4</td>\n      <td>311.15</td>\n      <td>0.1379</td>\n      <td>-87.4817</td>\n      <td>82.3006</td>\n      <td>NaN</td>\n      <td>NaN</td>\n      <td>NaN</td>\n      <td>NaN</td>\n      <td>...</td>\n      <td>NaN</td>\n      <td>NaN</td>\n      <td>NaN</td>\n      <td>NaN</td>\n      <td>NaN</td>\n      <td>NaN</td>\n      <td>NaN</td>\n      <td>NaN</td>\n      <td>NaN</td>\n      <td>NaN</td>\n    </tr>\n    <tr>\n      <th>2000.8</th>\n      <td>NaN</td>\n      <td>NaN</td>\n      <td>NaN</td>\n      <td>NaN</td>\n      <td>-86.6099</td>\n      <td>82.2234</td>\n      <td>NaN</td>\n      <td>NaN</td>\n      <td>NaN</td>\n      <td>NaN</td>\n      <td>...</td>\n      <td>NaN</td>\n      <td>NaN</td>\n      <td>NaN</td>\n      <td>NaN</td>\n      <td>NaN</td>\n      <td>NaN</td>\n      <td>NaN</td>\n      <td>NaN</td>\n      <td>NaN</td>\n      <td>NaN</td>\n    </tr>\n  </tbody>\n</table>\n<p>19994 rows × 40 columns</p>\n</div>"
     },
     "execution_count": 6,
     "metadata": {},
     "output_type": "execute_result"
    }
   ],
   "source": [
    "df_well"
   ],
   "metadata": {
    "collapsed": false,
    "pycharm": {
     "name": "#%%\n"
    }
   }
  },
  {
   "cell_type": "code",
   "execution_count": 8,
   "outputs": [
    {
     "data": {
      "text/plain": "(19994, 40)"
     },
     "execution_count": 8,
     "metadata": {},
     "output_type": "execute_result"
    }
   ],
   "source": [
    "df_well.shape"
   ],
   "metadata": {
    "collapsed": false,
    "pycharm": {
     "name": "#%%\n"
    }
   }
  },
  {
   "cell_type": "code",
   "execution_count": 9,
   "outputs": [
    {
     "data": {
      "text/plain": "Index(['TENS', 'LSPD', 'BS', 'ETIM', 'DHTN', 'BTMP', 'NPHI', 'NCPS', 'FCPS',\n       'NRAT', 'NPHL', 'NPHS', 'NPHD', 'GR', 'RHOB', 'CORP', 'CORM', 'DRHO',\n       'PE', 'DPE', 'QN', 'QF', 'DPHI', 'DLIM', 'DPHD', 'DPHS', 'CALI', 'BHVT',\n       'AHVT', 'DT', 'ITTT', 'ITTI', 'SPHI', 'LLS', 'LLD', 'CLLD', 'SP',\n       'MSFL', 'MSFU', 'CAL1'],\n      dtype='object')"
     },
     "execution_count": 9,
     "metadata": {},
     "output_type": "execute_result"
    }
   ],
   "source": [
    "df_well.columns"
   ],
   "metadata": {
    "collapsed": false,
    "pycharm": {
     "name": "#%%\n"
    }
   }
  },
  {
   "cell_type": "code",
   "execution_count": null,
   "outputs": [],
   "source": [
    "df_well = df_well[['CNPOR', 'GR', 'RHOB', 'DT', 'MELCAL', 'SPOR']]"
   ],
   "metadata": {
    "collapsed": false,
    "pycharm": {
     "name": "#%%\n"
    }
   }
  }
 ],
 "metadata": {
  "kernelspec": {
   "display_name": "Python 3",
   "language": "python",
   "name": "python3"
  },
  "language_info": {
   "codemirror_mode": {
    "name": "ipython",
    "version": 2
   },
   "file_extension": ".py",
   "mimetype": "text/x-python",
   "name": "python",
   "nbconvert_exporter": "python",
   "pygments_lexer": "ipython2",
   "version": "2.7.6"
  }
 },
 "nbformat": 4,
 "nbformat_minor": 0
}